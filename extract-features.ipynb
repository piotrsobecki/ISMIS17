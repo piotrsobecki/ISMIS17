{
 "cells": [
  {
   "cell_type": "code",
   "execution_count": null,
   "metadata": {
    "collapsed": false
   },
   "outputs": [],
   "source": [
    "import pandas as pd\n",
    "import numpy as np\n",
    "from sklearn import metrics\n",
    "from functools import partial\n",
    "\n",
    "from commons import *\n",
    "from classifier import *"
   ]
  },
  {
   "cell_type": "code",
   "execution_count": null,
   "metadata": {
    "collapsed": false
   },
   "outputs": [],
   "source": [
    "train = pd.DataFrame.from_csv(trainFile,sep=\";\",index_col=None)\n",
    "test = pd.DataFrame.from_csv(testFile,sep=\";\",index_col=None)"
   ]
  },
  {
   "cell_type": "code",
   "execution_count": null,
   "metadata": {
    "collapsed": true
   },
   "outputs": [],
   "source": [
    "x_train = train"
   ]
  },
  {
   "cell_type": "code",
   "execution_count": null,
   "metadata": {
    "collapsed": false
   },
   "outputs": [],
   "source": [
    "y_train = train[col_decision]"
   ]
  },
  {
   "cell_type": "code",
   "execution_count": null,
   "metadata": {
    "collapsed": false
   },
   "outputs": [],
   "source": [
    "#base_proba = {\n",
    "#    buy:0.8533510965759615,\n",
    "#    hold:0.3147490211779629,\n",
    "#    sell:0.4252465377050152\n",
    "#}\n",
    "\n",
    "confidence_map = {\n",
    "    CONF_NO_EXPERT_MODEL:0.25,\n",
    "    CONF_NO_EXPERT_SYMBOL_MODEL:0.5,\n",
    "    CONF_ALL:1\n",
    "}"
   ]
  },
  {
   "cell_type": "code",
   "execution_count": null,
   "metadata": {
    "collapsed": false
   },
   "outputs": [],
   "source": [
    "clf = Classifier(base_proba,confidence_map)"
   ]
  },
  {
   "cell_type": "code",
   "execution_count": null,
   "metadata": {
    "collapsed": true
   },
   "outputs": [],
   "source": [
    "from sklearn.model_selection import KFold, StratifiedKFold\n",
    "import numpy as np\n",
    "def Kcrossvalidation_transformed(clf, X, Y, X_transformed, K = 10):\n",
    "    score = np.zeros(K)\n",
    "    kf = StratifiedKFold(n_splits=K,shuffle=True)\n",
    "    i = 0\n",
    "    for train, test in kf.split(X,Y):\n",
    "        X_train, X_test, y_train, y_test = X.iloc[train], X.iloc[test], Y[train], Y[test]\n",
    "        \n",
    "        X_train_t = X_transformed[X_transformed[col_trans].isin(train)]\n",
    "        X_test_t = X_transformed[X_transformed[col_trans].isin(test)]\n",
    "        \n",
    "        clf.fit_transformed(X_train_t)\n",
    "        \n",
    "        y_test_pred = clf.predict_transformed(X_test_t)\n",
    "        score[i] = accuracy(y_test,y_test_pred)\n",
    "        i += 1\n",
    "    return np.mean(score)"
   ]
  },
  {
   "cell_type": "code",
   "execution_count": null,
   "metadata": {
    "collapsed": true
   },
   "outputs": [],
   "source": [
    "from sklearn.model_selection import KFold, StratifiedKFold\n",
    "import numpy as np\n",
    "def Kcrossvalidation(clf, X, Y, K = 10):\n",
    "    score = np.zeros(K)\n",
    "    kf = StratifiedKFold(n_splits=K,shuffle=True)\n",
    "    i = 0\n",
    "    for train, test in kf.split(X,Y):\n",
    "        X_train, X_test, y_train, y_test = X.iloc[train], X.iloc[test], Y[train], Y[test]\n",
    "        clf.fit(X_train, y_train)\n",
    "        \n",
    "        y_test_pred = clf.predict(X_test)\n",
    "        score[i] = accuracy(y_test,y_test_pred)\n",
    "        i += 1\n",
    "    return np.mean(score)"
   ]
  },
  {
   "cell_type": "code",
   "execution_count": null,
   "metadata": {
    "collapsed": false
   },
   "outputs": [],
   "source": [
    "subset = range(0,2500)\n",
    "x_train_s = x_train.iloc[subset]\n",
    "y_train_s = y_train[subset]\n",
    "\n",
    "ex = Extractor()\n",
    "\n",
    "x_train_t_s = ex.transform(x_train_s)\n",
    "x_train_t_s[col_decision] = y_train_s[x_train_t_s[col_trans]].map(vmap).tolist()"
   ]
  },
  {
   "cell_type": "code",
   "execution_count": null,
   "metadata": {
    "collapsed": false
   },
   "outputs": [],
   "source": [
    "Kcrossvalidation_transformed(clf,x_train_s,y_train_s,x_train_t_s,K=2)"
   ]
  },
  {
   "cell_type": "code",
   "execution_count": null,
   "metadata": {
    "collapsed": false
   },
   "outputs": [],
   "source": [
    "x_train.head(10)"
   ]
  },
  {
   "cell_type": "code",
   "execution_count": null,
   "metadata": {
    "collapsed": false
   },
   "outputs": [],
   "source": [
    "len(x_train)"
   ]
  },
  {
   "cell_type": "code",
   "execution_count": null,
   "metadata": {
    "collapsed": false
   },
   "outputs": [],
   "source": [
    "clf.fit(x_train, y_train)"
   ]
  },
  {
   "cell_type": "code",
   "execution_count": null,
   "metadata": {
    "collapsed": false
   },
   "outputs": [],
   "source": [
    "y_pred_train=clf.predict(test)"
   ]
  },
  {
   "cell_type": "code",
   "execution_count": null,
   "metadata": {
    "collapsed": false
   },
   "outputs": [],
   "source": [
    "y_pred_train"
   ]
  },
  {
   "cell_type": "code",
   "execution_count": null,
   "metadata": {
    "collapsed": true
   },
   "outputs": [],
   "source": [
    "pd.DataFrame(y_pred_train).to_csv('solution.csv',header=False,index=False)"
   ]
  },
  {
   "cell_type": "code",
   "execution_count": null,
   "metadata": {
    "collapsed": false
   },
   "outputs": [],
   "source": [
    "import array, random\n",
    "from deap import creator, base, tools, algorithms\n",
    "\n",
    "creator.create(\"FitnessMax\", base.Fitness, weights=(1.0,))\n",
    "creator.create(\"Individual\", list, fitness=creator.FitnessMax)\n",
    "\n",
    "toolbox = base.Toolbox()\n",
    "\n",
    "toolbox.register(\"attr_float\", random.random)\n",
    "toolbox.register(\"individual\", tools.initRepeat, creator.Individual,  toolbox.attr_float, n=int(6))\n",
    "toolbox.register(\"population\", tools.initRepeat, list, toolbox.individual)\n",
    "\n",
    "toolbox.register(\"mate\", tools.cxTwoPoint)\n",
    "toolbox.register(\"mutate\", tools.mutFlipBit, indpb=0.05)\n",
    "toolbox.register(\"select\", tools.selTournament, tournsize=3)"
   ]
  },
  {
   "cell_type": "code",
   "execution_count": null,
   "metadata": {
    "collapsed": true
   },
   "outputs": [],
   "source": [
    "def parse_base_proba(individual):\n",
    "    return {\n",
    "        buy:individual[3],\n",
    "        hold:individual[4],\n",
    "        sell:individual[5]\n",
    "    }\n",
    "\n",
    "def parse_confidence_map(individual):\n",
    "    return {\n",
    "        CONF_NO_EXPERT_MODEL:individual[0],\n",
    "        CONF_NO_EXPERT_SYMBOL_MODEL:individual[1],\n",
    "        CONF_ALL:individual[2]\n",
    "    }\n",
    "\n",
    "def evalOneMax(individual):\n",
    "    clf = Classifier(parse_base_proba(individual),parse_confidence_map(individual))\n",
    "    return (Kcrossvalidation_transformed(clf,x_train_s,y_train_s,x_train_t_s,K=2),)\n",
    "\n",
    "toolbox.register(\"evaluate\", evalOneMax)"
   ]
  },
  {
   "cell_type": "raw",
   "metadata": {},
   "source": [
    "population = toolbox.population(n=300)\n",
    "\n",
    "hof = tools.HallOfFame(10)\n",
    "\n",
    "NGEN=40\n",
    "for gen in range(NGEN):\n",
    "    offspring = algorithms.varAnd(population, toolbox, cxpb=0.5, mutpb=0.1)\n",
    "    fits = toolbox.map(toolbox.evaluate, offspring)\n",
    "    for fit, ind in zip(fits, offspring):\n",
    "        ind.fitness.values = fit\n",
    "    hof.update(population)\n",
    "    print('{} : {}'.format(hof[0],evalOneMax(hof[0])))\n",
    "    population = offspring"
   ]
  }
 ],
 "metadata": {
  "anaconda-cloud": {},
  "kernelspec": {
   "display_name": "Python 2",
   "language": "python",
   "name": "python2"
  },
  "language_info": {
   "codemirror_mode": {
    "name": "ipython",
    "version": 2.0
   },
   "file_extension": ".py",
   "mimetype": "text/x-python",
   "name": "python",
   "nbconvert_exporter": "python",
   "pygments_lexer": "ipython2",
   "version": "2.7.12"
  }
 },
 "nbformat": 4,
 "nbformat_minor": 0
}