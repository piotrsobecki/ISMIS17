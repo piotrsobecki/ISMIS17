{
 "cells": [
  {
   "cell_type": "markdown",
   "metadata": {},
   "source": [
    "# Test Classifiers and Regressors on train / test data set"
   ]
  },
  {
   "cell_type": "code",
   "execution_count": 1,
   "metadata": {
    "collapsed": false,
    "scrolled": true
   },
   "outputs": [],
   "source": [
    "import numpy as np\n",
    "import math\n",
    "import pandas as pd\n",
    "from sklearn.metrics import classification_report\n",
    "from sklearn.model_selection import cross_val_score,cross_val_predict, train_test_split\n",
    "from sklearn.neighbors import KNeighborsClassifier\n",
    "from sklearn.svm import SVC,SVR,LinearSVC\n",
    "from sklearn.tree import DecisionTreeClassifier\n",
    "from sklearn.ensemble import RandomForestClassifier, AdaBoostClassifier\n",
    "from sklearn.naive_bayes import GaussianNB\n",
    "from sklearn.discriminant_analysis import LinearDiscriminantAnalysis\n",
    "from sklearn.discriminant_analysis import QuadraticDiscriminantAnalysis\n",
    "from sklearn.metrics import accuracy_score,roc_curve, auc, get_scorer, roc_auc_score\n",
    "from sklearn.preprocessing import label_binarize\n",
    "from sklearn.multiclass import OneVsRestClassifier\n",
    "from scipy.stats import spearmanr, pearsonr\n",
    "from matplotlib import pyplot \n",
    "from sklearn import linear_model,neighbors,tree,gaussian_process,ensemble,neural_network, manifold,mixture"
   ]
  },
  {
   "cell_type": "markdown",
   "metadata": {},
   "source": [
    "## Parameters"
   ]
  },
  {
   "cell_type": "code",
   "execution_count": 2,
   "metadata": {
    "collapsed": false
   },
   "outputs": [
    {
     "data": {
      "text/plain": [
       "sys.version_info(major=2, minor=7, micro=12, releaselevel='final', serial=0)"
      ]
     },
     "execution_count": 2,
     "metadata": {},
     "output_type": "execute_result"
    }
   ],
   "source": [
    "import sys\n",
    "sys.version\n",
    "sys.version_info"
   ]
  },
  {
   "cell_type": "code",
   "execution_count": 3,
   "metadata": {
    "collapsed": true,
    "scrolled": true
   },
   "outputs": [],
   "source": [
    "rel = \"./\"\n",
    "train_data_file = rel+\"features.csv\"\n",
    "test_data_file = rel+\"features/STS/2012-en-test.csv\"\n",
    "cv_fold = 10\n",
    "\n",
    "#train_reference_data_file = rel +\"dataset/STS/2012-en-train.csv\"\n",
    "#test_reference_data_file = rel +\"dataset/STS/2012-en-test.csv\"\n",
    "\n",
    "threshold = 0.7"
   ]
  },
  {
   "cell_type": "markdown",
   "metadata": {},
   "source": [
    "## Classifiers to test"
   ]
  },
  {
   "cell_type": "code",
   "execution_count": 4,
   "metadata": {
    "collapsed": false
   },
   "outputs": [],
   "source": [
    "classifiers = [\n",
    "    #['SVC-linear',SVC(kernel=\"linear\", C=0.025, probability = True)],\n",
    "    #['SVC-rbf',SVC(gamma=2, C=1, probability = True,decision_function_shape ='ovr')],\n",
    "    #['KNN-3',KNeighborsClassifier(3)],\n",
    "    #['KNN-5',KNeighborsClassifier(5)],\n",
    "    #['KNN-7',KNeighborsClassifier(7)],\n",
    "    #['DTC-5',DecisionTreeClassifier(max_depth=5)],\n",
    "    #['DTC-10',DecisionTreeClassifier(max_depth=10)],\n",
    "    #['DTC-15',DecisionTreeClassifier(max_depth=15)],\n",
    "    ['RFC-5-10',RandomForestClassifier(max_depth=5, n_estimators=10)],\n",
    "    ['RFC-10-10',RandomForestClassifier(max_depth=10, n_estimators=10)],\n",
    "    ['RFC-15-10',RandomForestClassifier(max_depth=15, n_estimators=10)],\n",
    "    ['RFC-15-20',RandomForestClassifier(max_depth=15, n_estimators=20)],\n",
    "    ['RFC-15-30',RandomForestClassifier(max_depth=15, n_estimators=30)],\n",
    "    ['RFC-25',RandomForestClassifier(max_depth=25, n_estimators=50)],\n",
    "    ['RFC-30',RandomForestClassifier(max_depth=30, n_estimators=50)],\n",
    "    ['RFC-45',RandomForestClassifier(max_depth=45, n_estimators=50)],\n",
    "    #['RFC',RandomForestClassifier()],\n",
    "    #['ADA',AdaBoostClassifier()],\n",
    "    #['GNB',GaussianNB()],\n",
    "    #['LDA',LinearDiscriminantAnalysis()],\n",
    "    #['QDA',QuadraticDiscriminantAnalysis()]\n",
    "]"
   ]
  },
  {
   "cell_type": "markdown",
   "metadata": {},
   "source": [
    "## Regressors to test"
   ]
  },
  {
   "cell_type": "code",
   "execution_count": 5,
   "metadata": {
    "collapsed": false
   },
   "outputs": [],
   "source": [
    "regressors = [\n",
    "    #SVR(kernel=\"linear\", C=0.025),\n",
    "    #SVR(gamma=2, C=1),\n",
    "    #mixture.GaussianMixture(1),\n",
    "    #mixture.GaussianMixture(2),\n",
    "    #mixture.GaussianMixture(3),\n",
    "    linear_model.LinearRegression(),\n",
    "    #linear_model.Ridge(alpha = .5),\n",
    "    #linear_model.ElasticNet(),\n",
    "    #linear_model.BayesianRidge(),\n",
    "    ensemble.RandomForestRegressor(),\n",
    "    ensemble.RandomForestRegressor(max_depth=15, n_estimators=30),\n",
    "    ensemble.GradientBoostingRegressor(),\n",
    "    ensemble.ExtraTreesRegressor(),\n",
    "    ensemble.BaggingRegressor(),\n",
    "    ensemble.AdaBoostRegressor(),\n",
    "    gaussian_process.GaussianProcessRegressor(),\n",
    "    linear_model.HuberRegressor(),\n",
    "    linear_model.PassiveAggressiveRegressor(),\n",
    "    linear_model.RANSACRegressor(),\n",
    "    linear_model.TheilSenRegressor(),\n",
    "    linear_model.SGDRegressor(),\n",
    "    neighbors.KNeighborsRegressor(),\n",
    "    tree.DecisionTreeRegressor(),\n",
    "    tree.ExtraTreeRegressor(),\n",
    "    neural_network.MLPRegressor(activation='logistic',solver='lbfgs',max_iter=200)\n",
    "    \n",
    "]"
   ]
  },
  {
   "cell_type": "markdown",
   "metadata": {},
   "source": [
    "## Load data"
   ]
  },
  {
   "cell_type": "code",
   "execution_count": 6,
   "metadata": {
    "collapsed": false,
    "scrolled": false
   },
   "outputs": [],
   "source": [
    "import csv, json\n",
    "\n",
    "import io\n",
    "import csv\n",
    "\n",
    "def parse(data_file, sep):\n",
    "    d = pd.read_csv(data_file, delimiter=',', header=None).as_matrix()\n",
    "    pairs = d[:,0:2]\n",
    "    x = d[:,2:-1]\n",
    "    y = d[:,-1]\n",
    "    return x,y,pairs"
   ]
  },
  {
   "cell_type": "code",
   "execution_count": 7,
   "metadata": {
    "collapsed": true,
    "scrolled": false
   },
   "outputs": [],
   "source": [
    "def multiclass(y_class):\n",
    "    y = np.zeros([len(y_class),len(np.unique(y_class))])\n",
    "    for idx, val in enumerate(y_class):\n",
    "        y[idx,int(val)]=1\n",
    "    return y"
   ]
  },
  {
   "cell_type": "code",
   "execution_count": 8,
   "metadata": {
    "collapsed": false
   },
   "outputs": [],
   "source": [
    "x_train,y_train,pairs_train = parse(train_data_file,sep=',')"
   ]
  },
  {
   "cell_type": "code",
   "execution_count": 9,
   "metadata": {
    "collapsed": false
   },
   "outputs": [
    {
     "data": {
      "text/plain": [
       "(2234L, 28L)"
      ]
     },
     "execution_count": 9,
     "metadata": {},
     "output_type": "execute_result"
    }
   ],
   "source": [
    "x_train.shape"
   ]
  },
  {
   "cell_type": "code",
   "execution_count": 10,
   "metadata": {
    "collapsed": false,
    "scrolled": false
   },
   "outputs": [],
   "source": [
    "y_train_class = (y_train >= threshold).astype(int)\n",
    "y_train_mul = multiclass(y_train_class)"
   ]
  },
  {
   "cell_type": "code",
   "execution_count": 11,
   "metadata": {
    "collapsed": false
   },
   "outputs": [],
   "source": [
    "x_test,y_test,pairs_test  = parse(test_data_file,sep=',')"
   ]
  },
  {
   "cell_type": "code",
   "execution_count": 12,
   "metadata": {
    "collapsed": false
   },
   "outputs": [
    {
     "data": {
      "text/plain": [
       "(3108L, 28L)"
      ]
     },
     "execution_count": 12,
     "metadata": {},
     "output_type": "execute_result"
    }
   ],
   "source": [
    "x_test.shape"
   ]
  },
  {
   "cell_type": "code",
   "execution_count": 13,
   "metadata": {
    "collapsed": false,
    "scrolled": true
   },
   "outputs": [],
   "source": [
    "y_test_class = (y_test >= threshold).astype(int)\n",
    "y_test_mul = multiclass(y_test_class)"
   ]
  },
  {
   "cell_type": "code",
   "execution_count": 14,
   "metadata": {
    "collapsed": false
   },
   "outputs": [
    {
     "data": {
      "text/plain": [
       "array([1, 0, 0, ..., 1, 1, 1])"
      ]
     },
     "execution_count": 14,
     "metadata": {},
     "output_type": "execute_result"
    }
   ],
   "source": [
    "y_test_class"
   ]
  },
  {
   "cell_type": "code",
   "execution_count": 15,
   "metadata": {
    "collapsed": false,
    "scrolled": true
   },
   "outputs": [
    {
     "data": {
      "text/html": [
       "<div>\n",
       "<table border=\"1\" class=\"dataframe\">\n",
       "  <thead>\n",
       "    <tr style=\"text-align: right;\">\n",
       "      <th></th>\n",
       "      <th>0</th>\n",
       "      <th>1</th>\n",
       "      <th>2</th>\n",
       "      <th>3</th>\n",
       "      <th>4</th>\n",
       "      <th>5</th>\n",
       "      <th>6</th>\n",
       "      <th>7</th>\n",
       "      <th>8</th>\n",
       "      <th>9</th>\n",
       "      <th>...</th>\n",
       "      <th>18</th>\n",
       "      <th>19</th>\n",
       "      <th>20</th>\n",
       "      <th>21</th>\n",
       "      <th>22</th>\n",
       "      <th>23</th>\n",
       "      <th>24</th>\n",
       "      <th>25</th>\n",
       "      <th>26</th>\n",
       "      <th>27</th>\n",
       "    </tr>\n",
       "  </thead>\n",
       "  <tbody>\n",
       "    <tr>\n",
       "      <th>0</th>\n",
       "      <td>0.922951</td>\n",
       "      <td>0.462363</td>\n",
       "      <td>-0.717897</td>\n",
       "      <td>0.487135</td>\n",
       "      <td>0.272088</td>\n",
       "      <td>1</td>\n",
       "      <td>0</td>\n",
       "      <td>0.0959827</td>\n",
       "      <td>0.2</td>\n",
       "      <td>0.719335</td>\n",
       "      <td>...</td>\n",
       "      <td>0</td>\n",
       "      <td>9.2142</td>\n",
       "      <td>0</td>\n",
       "      <td>0</td>\n",
       "      <td>0</td>\n",
       "      <td>0</td>\n",
       "      <td>6.06546</td>\n",
       "      <td>0</td>\n",
       "      <td>0</td>\n",
       "      <td>2.80532</td>\n",
       "    </tr>\n",
       "    <tr>\n",
       "      <th>1</th>\n",
       "      <td>0.84703</td>\n",
       "      <td>0.501617</td>\n",
       "      <td>-1.25638</td>\n",
       "      <td>0.197028</td>\n",
       "      <td>0.324462</td>\n",
       "      <td>1</td>\n",
       "      <td>0</td>\n",
       "      <td>0.0228606</td>\n",
       "      <td>0.230286</td>\n",
       "      <td>0.8</td>\n",
       "      <td>...</td>\n",
       "      <td>0</td>\n",
       "      <td>10.1016</td>\n",
       "      <td>0</td>\n",
       "      <td>9.38484</td>\n",
       "      <td>0</td>\n",
       "      <td>5.56304</td>\n",
       "      <td>0</td>\n",
       "      <td>5.74537</td>\n",
       "      <td>0</td>\n",
       "      <td>13.2843</td>\n",
       "    </tr>\n",
       "    <tr>\n",
       "      <th>2</th>\n",
       "      <td>0.844538</td>\n",
       "      <td>0.39048</td>\n",
       "      <td>-0.905008</td>\n",
       "      <td>0.231846</td>\n",
       "      <td>0.236477</td>\n",
       "      <td>0.8</td>\n",
       "      <td>0</td>\n",
       "      <td>0.0325217</td>\n",
       "      <td>0.2</td>\n",
       "      <td>0.5</td>\n",
       "      <td>...</td>\n",
       "      <td>0</td>\n",
       "      <td>5.49856</td>\n",
       "      <td>7.70759</td>\n",
       "      <td>8.65731</td>\n",
       "      <td>4.68008</td>\n",
       "      <td>22.891</td>\n",
       "      <td>0</td>\n",
       "      <td>0</td>\n",
       "      <td>4.30659</td>\n",
       "      <td>3.01595</td>\n",
       "    </tr>\n",
       "    <tr>\n",
       "      <th>3</th>\n",
       "      <td>0.858369</td>\n",
       "      <td>0.464694</td>\n",
       "      <td>-1.28953</td>\n",
       "      <td>0.259366</td>\n",
       "      <td>0.336664</td>\n",
       "      <td>1</td>\n",
       "      <td>0</td>\n",
       "      <td>0</td>\n",
       "      <td>0.2</td>\n",
       "      <td>0.8</td>\n",
       "      <td>...</td>\n",
       "      <td>0</td>\n",
       "      <td>0</td>\n",
       "      <td>0</td>\n",
       "      <td>0</td>\n",
       "      <td>0</td>\n",
       "      <td>10.8435</td>\n",
       "      <td>0</td>\n",
       "      <td>0</td>\n",
       "      <td>0</td>\n",
       "      <td>20.9682</td>\n",
       "    </tr>\n",
       "    <tr>\n",
       "      <th>4</th>\n",
       "      <td>0.656541</td>\n",
       "      <td>0.492786</td>\n",
       "      <td>-1.12096</td>\n",
       "      <td>0.261499</td>\n",
       "      <td>0.318566</td>\n",
       "      <td>1</td>\n",
       "      <td>0</td>\n",
       "      <td>0.043519</td>\n",
       "      <td>0.210664</td>\n",
       "      <td>0.757841</td>\n",
       "      <td>...</td>\n",
       "      <td>0</td>\n",
       "      <td>0.154158</td>\n",
       "      <td>0</td>\n",
       "      <td>10.7482</td>\n",
       "      <td>0</td>\n",
       "      <td>0</td>\n",
       "      <td>0</td>\n",
       "      <td>5.74537</td>\n",
       "      <td>0</td>\n",
       "      <td>12.1838</td>\n",
       "    </tr>\n",
       "  </tbody>\n",
       "</table>\n",
       "<p>5 rows × 28 columns</p>\n",
       "</div>"
      ],
      "text/plain": [
       "         0         1         2         3         4    5  6          7   \\\n",
       "0  0.922951  0.462363 -0.717897  0.487135  0.272088    1  0  0.0959827   \n",
       "1   0.84703  0.501617  -1.25638  0.197028  0.324462    1  0  0.0228606   \n",
       "2  0.844538   0.39048 -0.905008  0.231846  0.236477  0.8  0  0.0325217   \n",
       "3  0.858369  0.464694  -1.28953  0.259366  0.336664    1  0          0   \n",
       "4  0.656541  0.492786  -1.12096  0.261499  0.318566    1  0   0.043519   \n",
       "\n",
       "         8         9    ...    18        19       20       21       22  \\\n",
       "0       0.2  0.719335   ...     0    9.2142        0        0        0   \n",
       "1  0.230286       0.8   ...     0   10.1016        0  9.38484        0   \n",
       "2       0.2       0.5   ...     0   5.49856  7.70759  8.65731  4.68008   \n",
       "3       0.2       0.8   ...     0         0        0        0        0   \n",
       "4  0.210664  0.757841   ...     0  0.154158        0  10.7482        0   \n",
       "\n",
       "        23       24       25       26       27  \n",
       "0        0  6.06546        0        0  2.80532  \n",
       "1  5.56304        0  5.74537        0  13.2843  \n",
       "2   22.891        0        0  4.30659  3.01595  \n",
       "3  10.8435        0        0        0  20.9682  \n",
       "4        0        0  5.74537        0  12.1838  \n",
       "\n",
       "[5 rows x 28 columns]"
      ]
     },
     "execution_count": 15,
     "metadata": {},
     "output_type": "execute_result"
    }
   ],
   "source": [
    "pd.DataFrame(x_train).head()"
   ]
  },
  {
   "cell_type": "code",
   "execution_count": 16,
   "metadata": {
    "collapsed": false,
    "scrolled": true
   },
   "outputs": [
    {
     "data": {
      "text/html": [
       "<div>\n",
       "<table border=\"1\" class=\"dataframe\">\n",
       "  <thead>\n",
       "    <tr style=\"text-align: right;\">\n",
       "      <th></th>\n",
       "      <th>0</th>\n",
       "      <th>1</th>\n",
       "      <th>2</th>\n",
       "      <th>3</th>\n",
       "      <th>4</th>\n",
       "      <th>5</th>\n",
       "      <th>6</th>\n",
       "      <th>7</th>\n",
       "      <th>8</th>\n",
       "      <th>9</th>\n",
       "      <th>...</th>\n",
       "      <th>18</th>\n",
       "      <th>19</th>\n",
       "      <th>20</th>\n",
       "      <th>21</th>\n",
       "      <th>22</th>\n",
       "      <th>23</th>\n",
       "      <th>24</th>\n",
       "      <th>25</th>\n",
       "      <th>26</th>\n",
       "      <th>27</th>\n",
       "    </tr>\n",
       "  </thead>\n",
       "  <tbody>\n",
       "    <tr>\n",
       "      <th>0</th>\n",
       "      <td>0.778486</td>\n",
       "      <td>0.4983</td>\n",
       "      <td>-1.66992</td>\n",
       "      <td>-0.120717</td>\n",
       "      <td>0.290759</td>\n",
       "      <td>0.8</td>\n",
       "      <td>0.0412438</td>\n",
       "      <td>0.0412438</td>\n",
       "      <td>0.253105</td>\n",
       "      <td>0.8</td>\n",
       "      <td>...</td>\n",
       "      <td>0</td>\n",
       "      <td>0</td>\n",
       "      <td>0</td>\n",
       "      <td>0</td>\n",
       "      <td>0</td>\n",
       "      <td>0</td>\n",
       "      <td>0</td>\n",
       "      <td>0</td>\n",
       "      <td>0</td>\n",
       "      <td>7.2552</td>\n",
       "    </tr>\n",
       "    <tr>\n",
       "      <th>1</th>\n",
       "      <td>0.713702</td>\n",
       "      <td>0.420974</td>\n",
       "      <td>-0.853733</td>\n",
       "      <td>0.435539</td>\n",
       "      <td>0.262794</td>\n",
       "      <td>0.8</td>\n",
       "      <td>0</td>\n",
       "      <td>0</td>\n",
       "      <td>0.275827</td>\n",
       "      <td>0.8</td>\n",
       "      <td>...</td>\n",
       "      <td>0</td>\n",
       "      <td>0</td>\n",
       "      <td>7.27897</td>\n",
       "      <td>10.438</td>\n",
       "      <td>0</td>\n",
       "      <td>0</td>\n",
       "      <td>0</td>\n",
       "      <td>0</td>\n",
       "      <td>0</td>\n",
       "      <td>1.32273</td>\n",
       "    </tr>\n",
       "    <tr>\n",
       "      <th>2</th>\n",
       "      <td>0.59247</td>\n",
       "      <td>0.38001</td>\n",
       "      <td>-0.895615</td>\n",
       "      <td>0.55703</td>\n",
       "      <td>0.234505</td>\n",
       "      <td>0.8</td>\n",
       "      <td>0.05202</td>\n",
       "      <td>0.0575646</td>\n",
       "      <td>0.200878</td>\n",
       "      <td>0.537725</td>\n",
       "      <td>...</td>\n",
       "      <td>0</td>\n",
       "      <td>0</td>\n",
       "      <td>0</td>\n",
       "      <td>0</td>\n",
       "      <td>0</td>\n",
       "      <td>0</td>\n",
       "      <td>0</td>\n",
       "      <td>0</td>\n",
       "      <td>0</td>\n",
       "      <td>11.5984</td>\n",
       "    </tr>\n",
       "    <tr>\n",
       "      <th>3</th>\n",
       "      <td>0.580054</td>\n",
       "      <td>0.273451</td>\n",
       "      <td>-0.273268</td>\n",
       "      <td>-0.0704805</td>\n",
       "      <td>0.138999</td>\n",
       "      <td>0.5</td>\n",
       "      <td>0</td>\n",
       "      <td>0</td>\n",
       "      <td>0.2</td>\n",
       "      <td>0.369359</td>\n",
       "      <td>...</td>\n",
       "      <td>0</td>\n",
       "      <td>0</td>\n",
       "      <td>0</td>\n",
       "      <td>0</td>\n",
       "      <td>0</td>\n",
       "      <td>0</td>\n",
       "      <td>10.8435</td>\n",
       "      <td>0</td>\n",
       "      <td>0</td>\n",
       "      <td>14.3102</td>\n",
       "    </tr>\n",
       "    <tr>\n",
       "      <th>4</th>\n",
       "      <td>0.651826</td>\n",
       "      <td>0.311364</td>\n",
       "      <td>0.592991</td>\n",
       "      <td>1.25371</td>\n",
       "      <td>0.337002</td>\n",
       "      <td>1</td>\n",
       "      <td>0</td>\n",
       "      <td>0</td>\n",
       "      <td>0.0630641</td>\n",
       "      <td>0.37643</td>\n",
       "      <td>...</td>\n",
       "      <td>0</td>\n",
       "      <td>0</td>\n",
       "      <td>0</td>\n",
       "      <td>0</td>\n",
       "      <td>0</td>\n",
       "      <td>11.5367</td>\n",
       "      <td>0</td>\n",
       "      <td>0</td>\n",
       "      <td>0</td>\n",
       "      <td>22.0842</td>\n",
       "    </tr>\n",
       "  </tbody>\n",
       "</table>\n",
       "<p>5 rows × 28 columns</p>\n",
       "</div>"
      ],
      "text/plain": [
       "         0         1         2          3         4    5          6   \\\n",
       "0  0.778486    0.4983  -1.66992  -0.120717  0.290759  0.8  0.0412438   \n",
       "1  0.713702  0.420974 -0.853733   0.435539  0.262794  0.8          0   \n",
       "2   0.59247   0.38001 -0.895615    0.55703  0.234505  0.8    0.05202   \n",
       "3  0.580054  0.273451 -0.273268 -0.0704805  0.138999  0.5          0   \n",
       "4  0.651826  0.311364  0.592991    1.25371  0.337002    1          0   \n",
       "\n",
       "          7          8         9    ...    18 19       20      21 22       23  \\\n",
       "0  0.0412438   0.253105       0.8   ...     0  0        0       0  0        0   \n",
       "1          0   0.275827       0.8   ...     0  0  7.27897  10.438  0        0   \n",
       "2  0.0575646   0.200878  0.537725   ...     0  0        0       0  0        0   \n",
       "3          0        0.2  0.369359   ...     0  0        0       0  0        0   \n",
       "4          0  0.0630641   0.37643   ...     0  0        0       0  0  11.5367   \n",
       "\n",
       "        24 25 26       27  \n",
       "0        0  0  0   7.2552  \n",
       "1        0  0  0  1.32273  \n",
       "2        0  0  0  11.5984  \n",
       "3  10.8435  0  0  14.3102  \n",
       "4        0  0  0  22.0842  \n",
       "\n",
       "[5 rows x 28 columns]"
      ]
     },
     "execution_count": 16,
     "metadata": {},
     "output_type": "execute_result"
    }
   ],
   "source": [
    "pd.DataFrame(x_test).head()"
   ]
  },
  {
   "cell_type": "markdown",
   "metadata": {},
   "source": [
    "# Represent data"
   ]
  },
  {
   "cell_type": "raw",
   "metadata": {},
   "source": [
    "### Train"
   ]
  },
  {
   "cell_type": "raw",
   "metadata": {},
   "source": [
    "mds = manifold.MDS(n_components=2)\n",
    "x_train_2d = mds.fit_transform(x_train)"
   ]
  },
  {
   "cell_type": "raw",
   "metadata": {},
   "source": [
    "y_train_color = ['r' if bool(v) else 'g' for v in y_train_class]  \n",
    "pyplot.scatter(x_train_2d[:,0],x_train_2d[:,1],c=y_train_color)\n",
    "pyplot.show()"
   ]
  },
  {
   "cell_type": "markdown",
   "metadata": {},
   "source": [
    "## Select features"
   ]
  },
  {
   "cell_type": "raw",
   "metadata": {},
   "source": [
    "from sklearn.datasets import load_boston\n",
    "from sklearn.feature_selection import SelectFromModel\n",
    "from sklearn.linear_model import LassoCV\n",
    "\n",
    "# Load the boston dataset.\n",
    "boston = load_boston()\n",
    "X, y = boston['data'], boston['target']\n",
    "\n",
    "# We use the base estimator LassoCV since the L1 norm promotes sparsity of features.\n",
    "clf = LassoCV()\n",
    "\n",
    "# Set a minimum threshold of 0.25\n",
    "sfm = SelectFromModel(clf, threshold=0.25)\n",
    "sfm.fit(x_train, y_train)\n",
    "n_features = sfm.transform(x_train).shape[1]\n",
    "\n",
    "# Reset the threshold till the number of features equals two.\n",
    "# Note that the attribute can be set directly instead of repeatedly\n",
    "# fitting the metatransformer.\n",
    "while n_features > 10:\n",
    "    sfm.threshold += 0.1\n",
    "    X_transform = sfm.transform(x_train)\n",
    "    n_features = X_transform.shape[1]\n",
    "    \n",
    "\n",
    "x_train = sfm.transform(x_train)\n",
    "x_test = sfm.transform(x_test)\n"
   ]
  },
  {
   "cell_type": "markdown",
   "metadata": {},
   "source": [
    "### Roc curve generator"
   ]
  },
  {
   "cell_type": "code",
   "execution_count": 17,
   "metadata": {
    "collapsed": true
   },
   "outputs": [],
   "source": [
    "def plot_roc_curve(y_test, y_score):\n",
    "    # Compute ROC curve and ROC area for each class\n",
    "    fpr = dict()\n",
    "    tpr = dict()\n",
    "    roc_auc = dict()\n",
    "    # Compute micro-average ROC curve and ROC area\n",
    "    fpr[\"micro\"], tpr[\"micro\"], _ = roc_curve(y_test.ravel(), y_score.ravel())\n",
    "    roc_auc[\"micro\"] = auc(fpr[\"micro\"], tpr[\"micro\"])\n",
    "    pyplot.figure()\n",
    "    lw = 2\n",
    "    pyplot.plot(fpr[\"micro\"],tpr[\"micro\"], color='darkorange', lw=lw, label='ROC curve (area = %0.2f)' % roc_auc[\"micro\"])\n",
    "    pyplot.plot([0, 1], [0, 1], color='navy', lw=lw, linestyle='--')\n",
    "    pyplot.xlim([0.0, 1.0])\n",
    "    pyplot.ylim([0.0, 1.05])\n",
    "    pyplot.xlabel('False Positive Rate')\n",
    "    pyplot.ylabel('True Positive Rate')\n",
    "    pyplot.title('Receiver operating characteristic')\n",
    "    pyplot.legend(loc=\"lower right\")\n",
    "    pyplot.show()"
   ]
  },
  {
   "cell_type": "markdown",
   "metadata": {},
   "source": [
    "## Score classifiers"
   ]
  },
  {
   "cell_type": "code",
   "execution_count": 18,
   "metadata": {
    "collapsed": false,
    "scrolled": true
   },
   "outputs": [],
   "source": [
    "import sklearn.pipeline as pipeline\n",
    "from sklearn.feature_selection import SelectFromModel\n",
    "from sklearn.ensemble import BaggingClassifier\n",
    "classifiers_scores = []\n",
    "\n",
    "# iterate over classifiers\n",
    "#for clf in classifiers:\n",
    "#    y_score = clf.fit(x_train, y_train_class).predict(x_test)\n",
    "#    sc = get_scorer('f1')(clf,x_test,y_test_class)\n",
    "#    classifiers_scores.append(sc)\n",
    "    \n",
    "    \n",
    "    \n",
    "classifiers_scores = []\n",
    "classifiers_regr = []\n",
    "# iterate over classifiers\n",
    "for name,clf in classifiers:\n",
    "    #clf =  ensemble.VotingClassifier(classifiers,voting='soft')\n",
    "    y_score_clf_test = clf.fit(x_train, y_train_class).predict_proba(x_test)\n",
    "    y_score_clf_train = clf.predict_proba(x_train)\n",
    "    #score_max = f1_score(y_train_class, y_score_clf[:,1]>0.5)\n",
    "    score_max = pearsonr(y_test,y_score_clf_test[:,1])[0]\n",
    "    regr_max = None\n",
    "    for regr in regressors: \n",
    "        x_train_ext = np.append(x_train, y_score_clf_train, 1)\n",
    "        x_test_ext  = np.append(x_test, y_score_clf_test, 1)\n",
    "        y_score = regr.fit(x_train_ext,y_train).predict(x_test_ext)\n",
    "        #score = f1_score(y_train_class, y_score>0.5)\n",
    "        score = pearsonr(y_test,y_score)[0]\n",
    "        if score > score_max:\n",
    "            score_max = score\n",
    "            regr_max = regr\n",
    "    classifiers_scores.append(score_max)\n",
    "    classifiers_regr.append(regr_max)"
   ]
  },
  {
   "cell_type": "code",
   "execution_count": 19,
   "metadata": {
    "collapsed": false
   },
   "outputs": [
    {
     "data": {
      "text/html": [
       "<div>\n",
       "<table border=\"1\" class=\"dataframe\">\n",
       "  <thead>\n",
       "    <tr style=\"text-align: right;\">\n",
       "      <th></th>\n",
       "      <th>Classifier</th>\n",
       "      <th>Pearson</th>\n",
       "    </tr>\n",
       "  </thead>\n",
       "  <tbody>\n",
       "    <tr>\n",
       "      <th>0</th>\n",
       "      <td>RFC-5-10</td>\n",
       "      <td>0.707851</td>\n",
       "    </tr>\n",
       "    <tr>\n",
       "      <th>1</th>\n",
       "      <td>RFC-10-10</td>\n",
       "      <td>0.692301</td>\n",
       "    </tr>\n",
       "    <tr>\n",
       "      <th>2</th>\n",
       "      <td>RFC-15-10</td>\n",
       "      <td>0.689205</td>\n",
       "    </tr>\n",
       "    <tr>\n",
       "      <th>3</th>\n",
       "      <td>RFC-15-20</td>\n",
       "      <td>0.713694</td>\n",
       "    </tr>\n",
       "    <tr>\n",
       "      <th>4</th>\n",
       "      <td>RFC-15-30</td>\n",
       "      <td>0.705716</td>\n",
       "    </tr>\n",
       "    <tr>\n",
       "      <th>5</th>\n",
       "      <td>RFC-25</td>\n",
       "      <td>0.715911</td>\n",
       "    </tr>\n",
       "    <tr>\n",
       "      <th>6</th>\n",
       "      <td>RFC-30</td>\n",
       "      <td>0.717549</td>\n",
       "    </tr>\n",
       "    <tr>\n",
       "      <th>7</th>\n",
       "      <td>RFC-45</td>\n",
       "      <td>0.704324</td>\n",
       "    </tr>\n",
       "  </tbody>\n",
       "</table>\n",
       "</div>"
      ],
      "text/plain": [
       "  Classifier   Pearson\n",
       "0   RFC-5-10  0.707851\n",
       "1  RFC-10-10  0.692301\n",
       "2  RFC-15-10  0.689205\n",
       "3  RFC-15-20  0.713694\n",
       "4  RFC-15-30  0.705716\n",
       "5     RFC-25  0.715911\n",
       "6     RFC-30  0.717549\n",
       "7     RFC-45  0.704324"
      ]
     },
     "execution_count": 19,
     "metadata": {},
     "output_type": "execute_result"
    }
   ],
   "source": [
    "pd.DataFrame({\"Classifier\":[name for name,classifier in classifiers],\\\n",
    "              \"Pearson\":classifiers_scores},\\\n",
    "             columns=[\"Classifier\",\"Pearson\"]\\\n",
    "            )"
   ]
  },
  {
   "cell_type": "markdown",
   "metadata": {},
   "source": [
    "## Evaluate features"
   ]
  },
  {
   "cell_type": "code",
   "execution_count": 43,
   "metadata": {
    "collapsed": false
   },
   "outputs": [],
   "source": [
    "import sklearn.metrics as metrics\n",
    "\n",
    "clas_threshold = 0.6\n",
    "c_eval = pd.DataFrame(index=range(0,x_train.shape[1]), columns=['F1','Pearson','Precision','Recall','Accuracy'])\n",
    "for i in range(0,x_train.shape[1]):\n",
    "    y_score_cl = (x_test[:,i] > clas_threshold).astype(int)\n",
    "    c_eval['F1'][i] = metrics.f1_score(y_test_class, y_score_cl)\n",
    "    c_eval['Pearson'][i] = pearsonr(y_test,x_test[:,i])[0]\n",
    "    c_eval['Precision'][i] = metrics.precision_score(y_test_class, y_score_cl)\n",
    "    c_eval['Recall'][i] = metrics.recall_score(y_test_class, y_score_cl)\n",
    "    c_eval['Accuracy'][i] = metrics.accuracy_score(y_test_class, y_score_cl)"
   ]
  },
  {
   "cell_type": "code",
   "execution_count": 44,
   "metadata": {
    "collapsed": false
   },
   "outputs": [
    {
     "data": {
      "text/html": [
       "<div>\n",
       "<table border=\"1\" class=\"dataframe\">\n",
       "  <thead>\n",
       "    <tr style=\"text-align: right;\">\n",
       "      <th></th>\n",
       "      <th>0</th>\n",
       "      <th>1</th>\n",
       "      <th>2</th>\n",
       "      <th>3</th>\n",
       "      <th>4</th>\n",
       "      <th>5</th>\n",
       "      <th>6</th>\n",
       "      <th>7</th>\n",
       "      <th>8</th>\n",
       "      <th>9</th>\n",
       "      <th>...</th>\n",
       "      <th>18</th>\n",
       "      <th>19</th>\n",
       "      <th>20</th>\n",
       "      <th>21</th>\n",
       "      <th>22</th>\n",
       "      <th>23</th>\n",
       "      <th>24</th>\n",
       "      <th>25</th>\n",
       "      <th>26</th>\n",
       "      <th>27</th>\n",
       "    </tr>\n",
       "  </thead>\n",
       "  <tbody>\n",
       "    <tr>\n",
       "      <th>F1</th>\n",
       "      <td>0.782152</td>\n",
       "      <td>0.183085</td>\n",
       "      <td>0.0663738</td>\n",
       "      <td>0.258746</td>\n",
       "      <td>0</td>\n",
       "      <td>0.749892</td>\n",
       "      <td>0.0175631</td>\n",
       "      <td>0.0175631</td>\n",
       "      <td>0.0326619</td>\n",
       "      <td>0.736013</td>\n",
       "      <td>...</td>\n",
       "      <td>0.15171</td>\n",
       "      <td>0.20017</td>\n",
       "      <td>0.270802</td>\n",
       "      <td>0.290456</td>\n",
       "      <td>0.273407</td>\n",
       "      <td>0.328978</td>\n",
       "      <td>0.403705</td>\n",
       "      <td>0.0551583</td>\n",
       "      <td>0.223438</td>\n",
       "      <td>0.669403</td>\n",
       "    </tr>\n",
       "    <tr>\n",
       "      <th>Pearson</th>\n",
       "      <td>0.660406</td>\n",
       "      <td>0.557305</td>\n",
       "      <td>-0.327409</td>\n",
       "      <td>-0.394217</td>\n",
       "      <td>0.256992</td>\n",
       "      <td>0.420329</td>\n",
       "      <td>0.231185</td>\n",
       "      <td>0.247886</td>\n",
       "      <td>0.413789</td>\n",
       "      <td>0.522667</td>\n",
       "      <td>...</td>\n",
       "      <td>0.0887672</td>\n",
       "      <td>-0.0273575</td>\n",
       "      <td>-0.173476</td>\n",
       "      <td>0.0423456</td>\n",
       "      <td>0.0750548</td>\n",
       "      <td>-0.00943221</td>\n",
       "      <td>0.117905</td>\n",
       "      <td>-0.0843128</td>\n",
       "      <td>0.0717858</td>\n",
       "      <td>-0.107745</td>\n",
       "    </tr>\n",
       "    <tr>\n",
       "      <th>Precision</th>\n",
       "      <td>0.687212</td>\n",
       "      <td>0.901961</td>\n",
       "      <td>0.279835</td>\n",
       "      <td>0.378465</td>\n",
       "      <td>0</td>\n",
       "      <td>0.61338</td>\n",
       "      <td>1</td>\n",
       "      <td>1</td>\n",
       "      <td>0.967742</td>\n",
       "      <td>0.70015</td>\n",
       "      <td>...</td>\n",
       "      <td>0.725118</td>\n",
       "      <td>0.427536</td>\n",
       "      <td>0.427208</td>\n",
       "      <td>0.57947</td>\n",
       "      <td>0.663113</td>\n",
       "      <td>0.537688</td>\n",
       "      <td>0.666242</td>\n",
       "      <td>0.355263</td>\n",
       "      <td>0.633075</td>\n",
       "      <td>0.568992</td>\n",
       "    </tr>\n",
       "    <tr>\n",
       "      <th>Recall</th>\n",
       "      <td>0.90753</td>\n",
       "      <td>0.101883</td>\n",
       "      <td>0.0376523</td>\n",
       "      <td>0.196567</td>\n",
       "      <td>0</td>\n",
       "      <td>0.964563</td>\n",
       "      <td>0.00885936</td>\n",
       "      <td>0.00885936</td>\n",
       "      <td>0.0166113</td>\n",
       "      <td>0.775748</td>\n",
       "      <td>...</td>\n",
       "      <td>0.0847176</td>\n",
       "      <td>0.130676</td>\n",
       "      <td>0.198228</td>\n",
       "      <td>0.193798</td>\n",
       "      <td>0.172204</td>\n",
       "      <td>0.236988</td>\n",
       "      <td>0.28959</td>\n",
       "      <td>0.0299003</td>\n",
       "      <td>0.135659</td>\n",
       "      <td>0.812846</td>\n",
       "    </tr>\n",
       "    <tr>\n",
       "      <th>Accuracy</th>\n",
       "      <td>0.706242</td>\n",
       "      <td>0.471686</td>\n",
       "      <td>0.384492</td>\n",
       "      <td>0.34556</td>\n",
       "      <td>0.418919</td>\n",
       "      <td>0.626126</td>\n",
       "      <td>0.424067</td>\n",
       "      <td>0.424067</td>\n",
       "      <td>0.42825</td>\n",
       "      <td>0.676641</td>\n",
       "      <td>...</td>\n",
       "      <td>0.449485</td>\n",
       "      <td>0.393179</td>\n",
       "      <td>0.379665</td>\n",
       "      <td>0.449807</td>\n",
       "      <td>0.468147</td>\n",
       "      <td>0.438224</td>\n",
       "      <td>0.502896</td>\n",
       "      <td>0.404762</td>\n",
       "      <td>0.452059</td>\n",
       "      <td>0.533462</td>\n",
       "    </tr>\n",
       "  </tbody>\n",
       "</table>\n",
       "<p>5 rows × 28 columns</p>\n",
       "</div>"
      ],
      "text/plain": [
       "                 0         1          2         3         4         5   \\\n",
       "F1         0.782152  0.183085  0.0663738  0.258746         0  0.749892   \n",
       "Pearson    0.660406  0.557305  -0.327409 -0.394217  0.256992  0.420329   \n",
       "Precision  0.687212  0.901961   0.279835  0.378465         0   0.61338   \n",
       "Recall      0.90753  0.101883  0.0376523  0.196567         0  0.964563   \n",
       "Accuracy   0.706242  0.471686   0.384492   0.34556  0.418919  0.626126   \n",
       "\n",
       "                   6           7          8         9     ...            18  \\\n",
       "F1          0.0175631   0.0175631  0.0326619  0.736013    ...       0.15171   \n",
       "Pearson      0.231185    0.247886   0.413789  0.522667    ...     0.0887672   \n",
       "Precision           1           1   0.967742   0.70015    ...      0.725118   \n",
       "Recall     0.00885936  0.00885936  0.0166113  0.775748    ...     0.0847176   \n",
       "Accuracy     0.424067    0.424067    0.42825  0.676641    ...      0.449485   \n",
       "\n",
       "                  19        20         21         22          23        24  \\\n",
       "F1           0.20017  0.270802   0.290456   0.273407    0.328978  0.403705   \n",
       "Pearson   -0.0273575 -0.173476  0.0423456  0.0750548 -0.00943221  0.117905   \n",
       "Precision   0.427536  0.427208    0.57947   0.663113    0.537688  0.666242   \n",
       "Recall      0.130676  0.198228   0.193798   0.172204    0.236988   0.28959   \n",
       "Accuracy    0.393179  0.379665   0.449807   0.468147    0.438224  0.502896   \n",
       "\n",
       "                  25         26        27  \n",
       "F1         0.0551583   0.223438  0.669403  \n",
       "Pearson   -0.0843128  0.0717858 -0.107745  \n",
       "Precision   0.355263   0.633075  0.568992  \n",
       "Recall     0.0299003   0.135659  0.812846  \n",
       "Accuracy    0.404762   0.452059  0.533462  \n",
       "\n",
       "[5 rows x 28 columns]"
      ]
     },
     "execution_count": 44,
     "metadata": {},
     "output_type": "execute_result"
    }
   ],
   "source": [
    "c_eval.T"
   ]
  },
  {
   "cell_type": "code",
   "execution_count": 45,
   "metadata": {
    "collapsed": false
   },
   "outputs": [
    {
     "data": {
      "text/plain": [
       "F1           0.782152\n",
       "Pearson      0.660406\n",
       "Precision    0.687212\n",
       "Recall        0.90753\n",
       "Accuracy     0.706242\n",
       "Name: 0, dtype: object"
      ]
     },
     "execution_count": 45,
     "metadata": {},
     "output_type": "execute_result"
    }
   ],
   "source": [
    "c_eval.T[0]"
   ]
  },
  {
   "cell_type": "markdown",
   "metadata": {},
   "source": [
    "## The best classifier"
   ]
  },
  {
   "cell_type": "code",
   "execution_count": 33,
   "metadata": {
    "collapsed": false
   },
   "outputs": [
    {
     "name": "stdout",
     "output_type": "stream",
     "text": [
      "RandomForestClassifier(bootstrap=True, class_weight=None, criterion='gini',\n",
      "            max_depth=30, max_features='auto', max_leaf_nodes=None,\n",
      "            min_impurity_split=1e-07, min_samples_leaf=1,\n",
      "            min_samples_split=2, min_weight_fraction_leaf=0.0,\n",
      "            n_estimators=50, n_jobs=1, oob_score=False, random_state=None,\n",
      "            verbose=0, warm_start=False)\n",
      "GradientBoostingRegressor(alpha=0.9, criterion='friedman_mse', init=None,\n",
      "             learning_rate=0.1, loss='ls', max_depth=3, max_features=None,\n",
      "             max_leaf_nodes=None, min_impurity_split=1e-07,\n",
      "             min_samples_leaf=1, min_samples_split=2,\n",
      "             min_weight_fraction_leaf=0.0, n_estimators=100,\n",
      "             presort='auto', random_state=None, subsample=1.0, verbose=0,\n",
      "             warm_start=False)\n",
      "Pearson:\t0.718\n",
      "F1:\t\t0.787\n",
      "Precision:\t0.679\n",
      "Recall:\t\t0.936\n",
      "Accuracy:\t0.706\n",
      "             precision    recall  f1-score   support\n",
      "\n",
      "      False       0.81      0.39      0.52      1302\n",
      "       True       0.68      0.94      0.79      1806\n",
      "\n",
      "avg / total       0.73      0.71      0.68      3108\n",
      "\n"
     ]
    },
    {
     "data": {
      "image/png": "[encoded data removed]",
      "text/plain": [
       "<matplotlib.figure.Figure at 0xce068d0>"
      ]
     },
     "metadata": {},
     "output_type": "display_data"
    }
   ],
   "source": [
    "import sklearn.metrics as metrics\n",
    "\n",
    "max_cls = np.where(classifiers_scores == max(classifiers_scores))[0][0]\n",
    "clf = classifiers[max_cls][1]\n",
    "regr = classifiers_regr[max_cls]\n",
    "print(clf)\n",
    "y_score_clf = clf.predict_proba(x_test)\n",
    "y_score_clf_train = clf.predict_proba(x_train)\n",
    "if regr is not None:\n",
    "    print(regr)\n",
    "    x_train_ext = np.append(x_train, y_score_clf_train, 1)\n",
    "    x_test_ext  = np.append(x_test, y_score_clf, 1)\n",
    "    y_score = regr.fit(x_train_ext,y_train).predict(x_test_ext)\n",
    "else:\n",
    "    print('No regression')\n",
    "    y_score = y_score_clf[:,1]\n",
    "print(\"Pearson:\\t%0.3f\"%pearsonr(y_test,y_score)[0])\n",
    "print(\"F1:\\t\\t%0.3f\"%metrics.f1_score(y_test_class,y_score>0.5))\n",
    "print(\"Precision:\\t%0.3f\"%metrics.precision_score(y_test_class,y_score>0.5))\n",
    "print(\"Recall:\\t\\t%0.3f\"%metrics.recall_score(y_test_class,y_score>0.5))\n",
    "print(\"Accuracy:\\t%0.3f\"%metrics.accuracy_score(y_test_class,y_score>0.5))\n",
    "\n",
    "\n",
    "print(classification_report(y_test_class, y_score>0.5, target_names=['False', 'True']))\n",
    "plot_roc_curve(y_test_class,y_score)"
   ]
  },
  {
   "cell_type": "code",
   "execution_count": 24,
   "metadata": {
    "collapsed": false
   },
   "outputs": [
    {
     "name": "stdout",
     "output_type": "stream",
     "text": [
      "RandomForestClassifier(bootstrap=True, class_weight=None, criterion='gini',\n",
      "            max_depth=30, max_features='auto', max_leaf_nodes=None,\n",
      "            min_impurity_split=1e-07, min_samples_leaf=1,\n",
      "            min_samples_split=2, min_weight_fraction_leaf=0.0,\n",
      "            n_estimators=50, n_jobs=1, oob_score=False, random_state=None,\n",
      "            verbose=0, warm_start=False)\n",
      "Pearson:\t0.660\n",
      "F1:\t\t0.859\n",
      "Accuracy:\t0.795\n",
      "Precision:\t0.884\n",
      "Recall:\t\t0.835\n"
     ]
    },
    {
     "data": {
      "image/png": "[encoded data removed]",
      "text/plain": [
       "<matplotlib.figure.Figure at 0x18f67518>"
      ]
     },
     "metadata": {},
     "output_type": "display_data"
    },
    {
     "name": "stdout",
     "output_type": "stream",
     "text": [
      "             precision    recall  f1-score   support\n",
      "\n",
      "      False       0.58      0.68      0.62       785\n",
      "       True       0.88      0.84      0.86      2323\n",
      "\n",
      "avg / total       0.81      0.79      0.80      3108\n",
      "\n"
     ]
    }
   ],
   "source": [
    "clf = classifiers[np.where(classifiers_scores == max(classifiers_scores))[0][0]][1] \n",
    "print(clf)\n",
    "y_score = clf.predict_proba(x_test)\n",
    "print(\"Pearson:\\t%0.3f\"    %pearsonr(y_test,y_score[:,1])[0])\n",
    "print(\"F1:\\t\\t%0.3f\"       %get_scorer('f1')(clf,x_test,y_test_class))\n",
    "print(\"Accuracy:\\t%0.3f\"   %get_scorer('accuracy')(clf,x_test,y_test_class))\n",
    "print(\"Precision:\\t%0.3f\"  %get_scorer('precision')(clf,x_test,y_test_class))\n",
    "print(\"Recall:\\t\\t%0.3f\"   %get_scorer('recall')(clf,x_test,y_test_class))\n",
    "plot_roc_curve(y_test_class,y_score[:,1])\n",
    "print(classification_report(y_test_class, y_score[:,1]>0.5, target_names=['False', 'True']))\n",
    "y_score_class = clf.predict(x_test)"
   ]
  },
  {
   "cell_type": "code",
   "execution_count": 25,
   "metadata": {
    "collapsed": false
   },
   "outputs": [
    {
     "data": {
      "text/plain": [
       "['RandomForestClassifier_0.6.pkl']"
      ]
     },
     "execution_count": 25,
     "metadata": {},
     "output_type": "execute_result"
    }
   ],
   "source": [
    "from sklearn.externals import joblib\n",
    "joblib.dump(clf,type(clf).__name__ +'_'+str(threshold)+'.pkl')"
   ]
  },
  {
   "cell_type": "code",
   "execution_count": 26,
   "metadata": {
    "collapsed": false
   },
   "outputs": [],
   "source": [
    "out_regr_err = 'class.res.csv'\n",
    "columns = ['Plag','Truth','Classification','Diff','Str1','Str2']\n",
    "pd.DataFrame(np.array([y_test,y_test_class,y_score_class,y_test_class-y_score_class,pairs_test[:,0],pairs_test[:,1]]).T,columns=columns).to_csv(out_regr_err)"
   ]
  },
  {
   "cell_type": "markdown",
   "metadata": {},
   "source": [
    "## Score regressors"
   ]
  },
  {
   "cell_type": "code",
   "execution_count": 27,
   "metadata": {
    "collapsed": false,
    "scrolled": false
   },
   "outputs": [],
   "source": [
    "regressors_scores = []\n",
    "for rgs in regressors:\n",
    "    y_score = rgs.fit(x_train, y_train).predict(x_test)\n",
    "    regressors_scores.append(pearsonr(y_test,y_score)[0])"
   ]
  },
  {
   "cell_type": "code",
   "execution_count": 28,
   "metadata": {
    "collapsed": false
   },
   "outputs": [
    {
     "data": {
      "text/html": [
       "<div>\n",
       "<table border=\"1\" class=\"dataframe\">\n",
       "  <thead>\n",
       "    <tr style=\"text-align: right;\">\n",
       "      <th></th>\n",
       "      <th>Regressor</th>\n",
       "      <th>Pearson</th>\n",
       "    </tr>\n",
       "  </thead>\n",
       "  <tbody>\n",
       "    <tr>\n",
       "      <th>0</th>\n",
       "      <td>LinearRegression</td>\n",
       "      <td>0.673025</td>\n",
       "    </tr>\n",
       "    <tr>\n",
       "      <th>1</th>\n",
       "      <td>RandomForestRegressor</td>\n",
       "      <td>0.684878</td>\n",
       "    </tr>\n",
       "    <tr>\n",
       "      <th>2</th>\n",
       "      <td>RandomForestRegressor</td>\n",
       "      <td>0.696621</td>\n",
       "    </tr>\n",
       "    <tr>\n",
       "      <th>3</th>\n",
       "      <td>GradientBoostingRegressor</td>\n",
       "      <td>0.708211</td>\n",
       "    </tr>\n",
       "    <tr>\n",
       "      <th>4</th>\n",
       "      <td>ExtraTreesRegressor</td>\n",
       "      <td>0.671825</td>\n",
       "    </tr>\n",
       "    <tr>\n",
       "      <th>5</th>\n",
       "      <td>BaggingRegressor</td>\n",
       "      <td>0.678497</td>\n",
       "    </tr>\n",
       "    <tr>\n",
       "      <th>6</th>\n",
       "      <td>AdaBoostRegressor</td>\n",
       "      <td>0.676718</td>\n",
       "    </tr>\n",
       "    <tr>\n",
       "      <th>7</th>\n",
       "      <td>GaussianProcessRegressor</td>\n",
       "      <td>0.217662</td>\n",
       "    </tr>\n",
       "    <tr>\n",
       "      <th>8</th>\n",
       "      <td>HuberRegressor</td>\n",
       "      <td>0.669001</td>\n",
       "    </tr>\n",
       "    <tr>\n",
       "      <th>9</th>\n",
       "      <td>PassiveAggressiveRegressor</td>\n",
       "      <td>0.554451</td>\n",
       "    </tr>\n",
       "    <tr>\n",
       "      <th>10</th>\n",
       "      <td>RANSACRegressor</td>\n",
       "      <td>0.546409</td>\n",
       "    </tr>\n",
       "    <tr>\n",
       "      <th>11</th>\n",
       "      <td>TheilSenRegressor</td>\n",
       "      <td>0.667937</td>\n",
       "    </tr>\n",
       "    <tr>\n",
       "      <th>12</th>\n",
       "      <td>SGDRegressor</td>\n",
       "      <td>-0.176014</td>\n",
       "    </tr>\n",
       "    <tr>\n",
       "      <th>13</th>\n",
       "      <td>KNeighborsRegressor</td>\n",
       "      <td>0.394048</td>\n",
       "    </tr>\n",
       "    <tr>\n",
       "      <th>14</th>\n",
       "      <td>DecisionTreeRegressor</td>\n",
       "      <td>0.530940</td>\n",
       "    </tr>\n",
       "    <tr>\n",
       "      <th>15</th>\n",
       "      <td>ExtraTreeRegressor</td>\n",
       "      <td>0.510019</td>\n",
       "    </tr>\n",
       "    <tr>\n",
       "      <th>16</th>\n",
       "      <td>MLPRegressor</td>\n",
       "      <td>0.670055</td>\n",
       "    </tr>\n",
       "  </tbody>\n",
       "</table>\n",
       "</div>"
      ],
      "text/plain": [
       "                     Regressor   Pearson\n",
       "0             LinearRegression  0.673025\n",
       "1        RandomForestRegressor  0.684878\n",
       "2        RandomForestRegressor  0.696621\n",
       "3    GradientBoostingRegressor  0.708211\n",
       "4          ExtraTreesRegressor  0.671825\n",
       "5             BaggingRegressor  0.678497\n",
       "6            AdaBoostRegressor  0.676718\n",
       "7     GaussianProcessRegressor  0.217662\n",
       "8               HuberRegressor  0.669001\n",
       "9   PassiveAggressiveRegressor  0.554451\n",
       "10             RANSACRegressor  0.546409\n",
       "11           TheilSenRegressor  0.667937\n",
       "12                SGDRegressor -0.176014\n",
       "13         KNeighborsRegressor  0.394048\n",
       "14       DecisionTreeRegressor  0.530940\n",
       "15          ExtraTreeRegressor  0.510019\n",
       "16                MLPRegressor  0.670055"
      ]
     },
     "execution_count": 28,
     "metadata": {},
     "output_type": "execute_result"
    }
   ],
   "source": [
    "pd.DataFrame({\"Regressor\":[type(regressor).__name__ for regressor in regressors],\\\n",
    "              \"Pearson\":regressors_scores},\\\n",
    "             columns=[\"Regressor\",\"Pearson\"])"
   ]
  },
  {
   "cell_type": "markdown",
   "metadata": {},
   "source": [
    "## The best regressor"
   ]
  },
  {
   "cell_type": "code",
   "execution_count": 29,
   "metadata": {
    "collapsed": false
   },
   "outputs": [
    {
     "name": "stdout",
     "output_type": "stream",
     "text": [
      "GradientBoostingRegressor(alpha=0.9, criterion='friedman_mse', init=None,\n",
      "             learning_rate=0.1, loss='ls', max_depth=3, max_features=None,\n",
      "             max_leaf_nodes=None, min_impurity_split=1e-07,\n",
      "             min_samples_leaf=1, min_samples_split=2,\n",
      "             min_weight_fraction_leaf=0.0, n_estimators=100,\n",
      "             presort='auto', random_state=None, subsample=1.0, verbose=0,\n",
      "             warm_start=False)\n"
     ]
    },
    {
     "data": {
      "image/png": "[encoded data removed]",
      "text/plain": [
       "<matplotlib.figure.Figure at 0x1dc81e10>"
      ]
     },
     "metadata": {},
     "output_type": "display_data"
    },
    {
     "name": "stdout",
     "output_type": "stream",
     "text": [
      "Spearman:\t0.628\n",
      "Pearson:\t0.708\n",
      "Accuracy:\t0.768\n",
      "             precision    recall  f1-score   support\n",
      "\n",
      "      False       0.53      0.75      0.62       785\n",
      "       True       0.90      0.77      0.83      2323\n",
      "\n",
      "avg / total       0.81      0.77      0.78      3108\n",
      "\n"
     ]
    }
   ],
   "source": [
    "m_r = np.where(regressors_scores == max(regressors_scores))[0][0]\n",
    "rgs = regressors[m_r] \n",
    "print(rgs)\n",
    "y_score = rgs.predict(x_test)\n",
    "y_score_bin = (y_score >=threshold).astype(int)\n",
    "plot_roc_curve((y_test_class),(y_score))\n",
    "\n",
    "print(\"Spearman:\\t%0.3f\"%spearmanr(y_test,y_score).correlation)\n",
    "print(\"Pearson:\\t%0.3f\" %pearsonr(y_test,y_score)[0])\n",
    "print(\"Accuracy:\\t%0.3f\" % (accuracy_score(y_test_class, y_score_bin)))\n",
    "print(classification_report(y_test_class, y_score_bin, target_names=['False', 'True']))"
   ]
  },
  {
   "cell_type": "code",
   "execution_count": 30,
   "metadata": {
    "collapsed": false
   },
   "outputs": [],
   "source": [
    "out_regr_err = 'regr.res.csv'\n",
    "columns = ['Truth','Score','Diff','Abs_Diff','Str1','Str2']\n",
    "pd.DataFrame(np.array([y_test,y_score,y_test-y_score,abs(y_test-y_score),pairs_test[:,0],pairs_test[:,1]]).T,columns=columns).to_csv(out_regr_err)"
   ]
  }
 ],
 "metadata": {
  "anaconda-cloud": {},
  "kernelspec": {
   "display_name": "Python [conda root]",
   "language": "python",
   "name": "conda-root-py"
  },
  "language_info": {
   "codemirror_mode": {
    "name": "ipython",
    "version": 2.0
   },
   "file_extension": ".py",
   "mimetype": "text/x-python",
   "name": "python",
   "nbconvert_exporter": "python",
   "pygments_lexer": "ipython2",
   "version": "2.7.12"
  }
 },
 "nbformat": 4,
 "nbformat_minor": 0
}