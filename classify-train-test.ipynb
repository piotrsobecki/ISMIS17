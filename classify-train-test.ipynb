{
 "cells": [
  {
   "cell_type": "code",
   "execution_count": 1,
   "metadata": {
    "collapsed": false
   },
   "outputs": [],
   "source": [
    "import pandas as pd\n",
    "import numpy as np\n",
    "from sklearn import metrics\n",
    "from functools import partial\n",
    "\n",
    "from commons import *\n",
    "from classifier import *"
   ]
  },
  {
   "cell_type": "code",
   "execution_count": 2,
   "metadata": {
    "collapsed": false
   },
   "outputs": [],
   "source": [
    "train = pd.DataFrame.from_csv(trainFile,sep=\";\",index_col=None)\n",
    "test = pd.DataFrame.from_csv(testFile,sep=\";\",index_col=None)"
   ]
  },
  {
   "cell_type": "code",
   "execution_count": 3,
   "metadata": {
    "collapsed": true
   },
   "outputs": [],
   "source": [
    "train_t = pd.DataFrame.from_csv(trainTransformed,sep=\";\",index_col=None)\n",
    "test_t = pd.DataFrame.from_csv(testTransformed,sep=\";\",index_col=None)"
   ]
  },
  {
   "cell_type": "code",
   "execution_count": 4,
   "metadata": {
    "collapsed": true
   },
   "outputs": [],
   "source": [
    "x_train = train"
   ]
  },
  {
   "cell_type": "code",
   "execution_count": 5,
   "metadata": {
    "collapsed": false
   },
   "outputs": [],
   "source": [
    "y_train = train[col_decision]"
   ]
  },
  {
   "cell_type": "code",
   "execution_count": 6,
   "metadata": {
    "collapsed": false
   },
   "outputs": [],
   "source": [
    "base_proba = {\n",
    "    buy:0.33,\n",
    "    hold:0.33,\n",
    "    sell:0.33\n",
    "}\n",
    "\n",
    "confidence_map = {\n",
    "    CONF_NO_EXPERT_MODEL:0.5,\n",
    "    CONF_NO_EXPERT_SYMBOL_MODEL:0.75,\n",
    "    CONF_ALL:1\n",
    "}"
   ]
  },
  {
   "cell_type": "code",
   "execution_count": 7,
   "metadata": {
    "collapsed": false
   },
   "outputs": [],
   "source": [
    "clf = Classifier(base_proba,confidence_map)"
   ]
  },
  {
   "cell_type": "code",
   "execution_count": 8,
   "metadata": {
    "collapsed": true
   },
   "outputs": [],
   "source": [
    "from sklearn.model_selection import KFold, StratifiedKFold\n",
    "import numpy as np\n",
    "def Kcrossvalidation_transformed(clf, X, Y, X_transformed, K = 10):\n",
    "    score = np.zeros(K)\n",
    "    kf = StratifiedKFold(n_splits=K,shuffle=True)\n",
    "    i = 0\n",
    "    for train, test in kf.split(X,Y):\n",
    "        print(i)\n",
    "        X_train, X_test, y_train, y_test = X.iloc[train], X.iloc[test], Y[train], Y[test]\n",
    "        \n",
    "        X_train_t = X_transformed[X_transformed[col_trans].isin(train)]\n",
    "        X_test_t = X_transformed[X_transformed[col_trans].isin(test)]\n",
    "        \n",
    "        clf.fit_transformed(X_train_t)\n",
    "        \n",
    "        y_test_pred = clf.predict_transformed(X_test_t)\n",
    "        print(set(y_test_pred))\n",
    "        \n",
    "        score[i] = accuracy(y_test,y_test_pred)\n",
    "        i += 1\n",
    "    return np.mean(score)\n"
   ]
  },
  {
   "cell_type": "code",
   "execution_count": 9,
   "metadata": {
    "collapsed": true
   },
   "outputs": [],
   "source": [
    "from sklearn.model_selection import KFold, StratifiedKFold\n",
    "import numpy as np\n",
    "def Kcrossvalidation(clf, X, Y, K = 10):\n",
    "    score = np.zeros(K)\n",
    "    kf = StratifiedKFold(n_splits=K,shuffle=True)\n",
    "    i = 0\n",
    "    for train, test in kf.split(X,Y):\n",
    "        print(i)\n",
    "        X_train, X_test, y_train, y_test = X.iloc[train], X.iloc[test], Y[train], Y[test]\n",
    "        clf.fit(X_train, y_train)\n",
    "        \n",
    "        y_test_pred = clf.predict(X_test)\n",
    "        score[i] = accuracy(y_test,y_test_pred)\n",
    "        i += 1\n",
    "    return np.mean(score)"
   ]
  },
  {
   "cell_type": "raw",
   "metadata": {
    "collapsed": false
   },
   "source": [
    "ex = Extractor()\n",
    "\n",
    "x_train_t = ex.transform(x_train)\n",
    "x_train_t[col_decision] = y_train[x_train_t[col_trans]].map(vmap).tolist()"
   ]
  },
  {
   "cell_type": "raw",
   "metadata": {},
   "source": [
    "x_train_t.to_csv(trainTransformed,sep=\";\",index=False)"
   ]
  },
  {
   "cell_type": "code",
   "execution_count": 10,
   "metadata": {
    "collapsed": false
   },
   "outputs": [
    {
     "name": "stdout",
     "output_type": "stream",
     "text": [
      "0\n"
     ]
    },
    {
     "name": "stderr",
     "output_type": "stream",
     "text": [
      "E:\\Anaconda3\\lib\\site-packages\\sklearn\\metrics\\classification.py:1113: UndefinedMetricWarning: Precision is ill-defined and being set to 0.0 due to no predicted samples.\n",
      "  'precision', 'predicted', average, warn_for)\n",
      "E:\\Anaconda3\\lib\\site-packages\\sklearn\\metrics\\classification.py:1115: UndefinedMetricWarning: Recall is ill-defined and being set to 0.0 due to no true samples.\n",
      "  'recall', 'true', average, warn_for)\n",
      "E:\\workspace\\git\\ismis\\classifier.py:102: FutureWarning: sort(columns=....) is deprecated, use sort_values(by=.....)\n",
      "  byexpert = byexpert.sort(['TimeBefore'])\n",
      "E:\\workspace\\git\\ismis\\classifier.py:43: RuntimeWarning: invalid value encountered in double_scalars\n",
      "  proba[option] = ((1 - proba[pred]) * (1 - self.model.recall(option))) / s_recall\n"
     ]
    },
    {
     "name": "stdout",
     "output_type": "stream",
     "text": [
      "{'Sell', 'Hold', 'Buy'}\n",
      "[[1070  538  479]\n",
      " [ 385  292  213]\n",
      " [ 453  305  345]]\n",
      "1\n",
      "{'Sell', 'Hold', 'Buy'}\n",
      "[[1062  556  462]\n",
      " [ 370  284  232]\n",
      " [ 475  294  342]]\n",
      "2\n",
      "{'Sell', 'Hold', 'Buy'}\n",
      "[[1132  557  489]\n",
      " [ 372  267  222]\n",
      " [ 403  310  325]]\n"
     ]
    },
    {
     "data": {
      "text/plain": [
       "0.50670208755707247"
      ]
     },
     "execution_count": 10,
     "metadata": {},
     "output_type": "execute_result"
    }
   ],
   "source": [
    "Kcrossvalidation_transformed(clf,x_train,y_train,train_t,3)"
   ]
  },
  {
   "cell_type": "raw",
   "metadata": {
    "collapsed": false
   },
   "source": [
    "clf.fit_transformed(train_t)"
   ]
  },
  {
   "cell_type": "raw",
   "metadata": {
    "collapsed": false
   },
   "source": [
    "y_pred_train=clf.predict(test)"
   ]
  },
  {
   "cell_type": "raw",
   "metadata": {
    "collapsed": false
   },
   "source": [
    "y_pred_train"
   ]
  },
  {
   "cell_type": "raw",
   "metadata": {
    "collapsed": true
   },
   "source": [
    "pd.DataFrame(y_pred_train).to_csv('solution.csv',header=False,index=False)"
   ]
  }
 ],
 "metadata": {
  "anaconda-cloud": {},
  "kernelspec": {
   "display_name": "Python 3",
   "language": "python",
   "name": "python3"
  },
  "language_info": {
   "codemirror_mode": {
    "name": "ipython",
    "version": 3
   },
   "file_extension": ".py",
   "mimetype": "text/x-python",
   "name": "python",
   "nbconvert_exporter": "python",
   "pygments_lexer": "ipython3",
   "version": "3.6.0"
  }
 },
 "nbformat": 4,
 "nbformat_minor": 1
}
